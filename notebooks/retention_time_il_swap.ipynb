{
 "cells": [
  {
   "cell_type": "code",
   "execution_count": 15,
   "id": "f84395df-1462-4ab9-bd14-142d8edd8ac8",
   "metadata": {},
   "outputs": [],
   "source": [
    "import pandas as pd\n",
    "import re\n",
    "import random\n",
    "from psm_utils.psm import PSM\n",
    "from psm_utils.psm_list import PSMList\n",
    "from psm_utils.io import write_file\n",
    "from pathlib import Path\n",
    "import sys\n",
    "import numpy as np\n",
    "import pandas as pd\n",
    "\n",
    "from deeplc import DeepLC\n",
    "\n",
    "# Alternative way if __file__ is not defined in Jupyter notebooks\n",
    "project_root = Path.cwd().parent\n",
    "\n",
    "sys.path.append(str(project_root))\n",
    "\n",
    "from make_predictions.intensity_predictions import obtain_predictions_pairs\n",
    "from seq_utils.fasta_to_peptides import create_tryptic_peptides\n",
    "from seq_utils.peptide import (\n",
    "    remove_non_il,\n",
    "    remove_ux_containing,\n",
    "    switch_first_il,\n",
    "    switch_random_il,\n",
    "    has_il_outside_brackets,\n",
    "    get_proforma_bracketed,\n",
    ")\n",
    "from metrics.get_metrics import metrics_comparison\n",
    "\n",
    "from matplotlib import pyplot as plt"
   ]
  },
  {
   "cell_type": "code",
   "execution_count": 28,
   "id": "50f31926",
   "metadata": {},
   "outputs": [],
   "source": [
    "%matplotlib inline"
   ]
  },
  {
   "cell_type": "code",
   "execution_count": 16,
   "id": "0d6108c1-7bb8-47c9-ae3b-41dc7a10ff62",
   "metadata": {},
   "outputs": [],
   "source": [
    "fraction = 0.5\n",
    "random_seed = 42\n",
    "\n",
    "df = pd.read_csv(\"../temp_data/input_file.txt\", sep=\"\\t\") # MQ search\n",
    "\n",
    "parse_column = \"Modified sequence\"\n",
    "before_aa = False\n",
    "isalpha = True\n",
    "isupper = True\n",
    "pattern = \"\\\\([^()]*\\\\)|\\\\([^()]*\\\\([^()]*\\\\)[^()]*\\\\)\"\n",
    "modification_dict = {\"(ox)\" : \"Oxidation\", \"(ac)\" : \"Acetyl\", \"(oxidation (m))\" : \"Oxidation\", \"(acetyl (protein n-term))\" : \"Acetyl\"}\n",
    "\n",
    "\n",
    "df[\"proforma\"] = df[\"Modified sequence\"].apply(\n",
    "    get_proforma_bracketed,\n",
    "    before_aa=before_aa,\n",
    "    isalpha=isalpha,\n",
    "    isupper=isupper,\n",
    "    pattern=pattern,\n",
    "    modification_dict=modification_dict,\n",
    ")"
   ]
  },
  {
   "cell_type": "code",
   "execution_count": 17,
   "id": "0c5ea69b-c415-4b03-9665-476718705ff3",
   "metadata": {},
   "outputs": [],
   "source": [
    "merged_df = df.merge(\n",
    "    df.groupby(\"proforma\")[\"Calibrated retention time\"].mean(),\n",
    "    on=\"proforma\",\n",
    "    how=\"left\",\n",
    ")\n",
    "merged_df = merged_df.drop_duplicates(subset=\"proforma\", keep=\"first\")"
   ]
  },
  {
   "cell_type": "code",
   "execution_count": null,
   "id": "5deb1b1c",
   "metadata": {},
   "outputs": [],
   "source": [
    "df_train = merged_df.sample(frac=fraction, random_state=random_seed)\n",
    "df_eval = merged_df.drop(df_train.index)\n",
    "\n",
    "psm_list_train = []\n",
    "psm_list_eval = []\n",
    "psm_list_eval_swapped = []\n",
    "\n",
    "for idx, row in df_train.iterrows():\n",
    "    psm_list_train.append(\n",
    "        PSM(\n",
    "            peptidoform=row[\"proforma\"],\n",
    "            retention_time=row[\"Calibrated retention time_y\"],\n",
    "            spectrum_id=idx,\n",
    "\n",
    "        )\n",
    "    )\n",
    "\n",
    "for idx, row in df_eval.iterrows():\n",
    "    seq_swap = switch_random_il(row[\"proforma\"])\n",
    "    psm_list_eval.append(\n",
    "        PSM(\n",
    "            peptidoform=row[\"proforma\"],\n",
    "            retention_time=row[\"Calibrated retention time_y\"],\n",
    "            spectrum_id=idx,\n",
    "        )\n",
    "    )\n",
    "\n",
    "    psm_list_eval_swapped.append(\n",
    "        PSM(\n",
    "            peptidoform=seq_swap,\n",
    "            retention_time=row[\"Calibrated retention time_y\"],\n",
    "            spectrum_id=idx,\n",
    "        )\n",
    "    )\n",
    "\n",
    "\n",
    "psm_list_train = PSMList(psm_list=psm_list_train)\n",
    "psm_list_eval = PSMList(psm_list=psm_list_eval)\n",
    "psm_list_eval_swapped = PSMList(psm_list=psm_list_eval_swapped)"
   ]
  },
  {
   "cell_type": "code",
   "execution_count": 19,
   "id": "a63d8187",
   "metadata": {},
   "outputs": [
    {
     "name": "stderr",
     "output_type": "stream",
     "text": [
      "DeepLC tried to set intra op threads, but was unable to do so.\n"
     ]
    },
    {
     "name": "stdout",
     "output_type": "stream",
     "text": [
      "Epoch 1/20\n",
      "\u001b[1m151/151\u001b[0m \u001b[32m━━━━━━━━━━━━━━━━━━━━\u001b[0m\u001b[37m\u001b[0m \u001b[1m5s\u001b[0m 23ms/step - loss: 15.8677 - mean_absolute_error: 15.8677 - val_loss: 3.5398 - val_mean_absolute_error: 3.5398\n",
      "Epoch 2/20\n",
      "\u001b[1m151/151\u001b[0m \u001b[32m━━━━━━━━━━━━━━━━━━━━\u001b[0m\u001b[37m\u001b[0m \u001b[1m3s\u001b[0m 21ms/step - loss: 3.3337 - mean_absolute_error: 3.3337 - val_loss: 3.2671 - val_mean_absolute_error: 3.2671\n",
      "Epoch 3/20\n",
      "\u001b[1m151/151\u001b[0m \u001b[32m━━━━━━━━━━━━━━━━━━━━\u001b[0m\u001b[37m\u001b[0m \u001b[1m3s\u001b[0m 22ms/step - loss: 3.0207 - mean_absolute_error: 3.0207 - val_loss: 2.7647 - val_mean_absolute_error: 2.7647\n",
      "Epoch 4/20\n",
      "\u001b[1m151/151\u001b[0m \u001b[32m━━━━━━━━━━━━━━━━━━━━\u001b[0m\u001b[37m\u001b[0m \u001b[1m3s\u001b[0m 21ms/step - loss: 2.8203 - mean_absolute_error: 2.8203 - val_loss: 2.9016 - val_mean_absolute_error: 2.9016\n",
      "Epoch 5/20\n",
      "\u001b[1m151/151\u001b[0m \u001b[32m━━━━━━━━━━━━━━━━━━━━\u001b[0m\u001b[37m\u001b[0m \u001b[1m3s\u001b[0m 21ms/step - loss: 2.8093 - mean_absolute_error: 2.8093 - val_loss: 2.7673 - val_mean_absolute_error: 2.7673\n",
      "Epoch 6/20\n",
      "\u001b[1m151/151\u001b[0m \u001b[32m━━━━━━━━━━━━━━━━━━━━\u001b[0m\u001b[37m\u001b[0m \u001b[1m3s\u001b[0m 21ms/step - loss: 2.6998 - mean_absolute_error: 2.6998 - val_loss: 2.7125 - val_mean_absolute_error: 2.7125\n",
      "Epoch 7/20\n",
      "\u001b[1m151/151\u001b[0m \u001b[32m━━━━━━━━━━━━━━━━━━━━\u001b[0m\u001b[37m\u001b[0m \u001b[1m3s\u001b[0m 21ms/step - loss: 2.6551 - mean_absolute_error: 2.6551 - val_loss: 3.0497 - val_mean_absolute_error: 3.0497\n",
      "Epoch 8/20\n",
      "\u001b[1m151/151\u001b[0m \u001b[32m━━━━━━━━━━━━━━━━━━━━\u001b[0m\u001b[37m\u001b[0m \u001b[1m3s\u001b[0m 21ms/step - loss: 2.6305 - mean_absolute_error: 2.6305 - val_loss: 2.6269 - val_mean_absolute_error: 2.6269\n",
      "Epoch 9/20\n",
      "\u001b[1m151/151\u001b[0m \u001b[32m━━━━━━━━━━━━━━━━━━━━\u001b[0m\u001b[37m\u001b[0m \u001b[1m3s\u001b[0m 21ms/step - loss: 2.5385 - mean_absolute_error: 2.5385 - val_loss: 2.6182 - val_mean_absolute_error: 2.6182\n",
      "Epoch 10/20\n",
      "\u001b[1m151/151\u001b[0m \u001b[32m━━━━━━━━━━━━━━━━━━━━\u001b[0m\u001b[37m\u001b[0m \u001b[1m3s\u001b[0m 21ms/step - loss: 2.5539 - mean_absolute_error: 2.5539 - val_loss: 2.5089 - val_mean_absolute_error: 2.5089\n",
      "Epoch 11/20\n",
      "\u001b[1m151/151\u001b[0m \u001b[32m━━━━━━━━━━━━━━━━━━━━\u001b[0m\u001b[37m\u001b[0m \u001b[1m3s\u001b[0m 21ms/step - loss: 2.4560 - mean_absolute_error: 2.4560 - val_loss: 2.8343 - val_mean_absolute_error: 2.8343\n",
      "Epoch 12/20\n",
      "\u001b[1m151/151\u001b[0m \u001b[32m━━━━━━━━━━━━━━━━━━━━\u001b[0m\u001b[37m\u001b[0m \u001b[1m4s\u001b[0m 24ms/step - loss: 2.5103 - mean_absolute_error: 2.5103 - val_loss: 2.5703 - val_mean_absolute_error: 2.5703\n",
      "Epoch 13/20\n",
      "\u001b[1m151/151\u001b[0m \u001b[32m━━━━━━━━━━━━━━━━━━━━\u001b[0m\u001b[37m\u001b[0m \u001b[1m3s\u001b[0m 21ms/step - loss: 2.4623 - mean_absolute_error: 2.4623 - val_loss: 3.6387 - val_mean_absolute_error: 3.6387\n",
      "Epoch 14/20\n",
      "\u001b[1m151/151\u001b[0m \u001b[32m━━━━━━━━━━━━━━━━━━━━\u001b[0m\u001b[37m\u001b[0m \u001b[1m3s\u001b[0m 19ms/step - loss: 2.4811 - mean_absolute_error: 2.4811 - val_loss: 2.6032 - val_mean_absolute_error: 2.6032\n",
      "Epoch 15/20\n",
      "\u001b[1m151/151\u001b[0m \u001b[32m━━━━━━━━━━━━━━━━━━━━\u001b[0m\u001b[37m\u001b[0m \u001b[1m3s\u001b[0m 19ms/step - loss: 2.3744 - mean_absolute_error: 2.3744 - val_loss: 2.7333 - val_mean_absolute_error: 2.7333\n",
      "Epoch 16/20\n",
      "\u001b[1m151/151\u001b[0m \u001b[32m━━━━━━━━━━━━━━━━━━━━\u001b[0m\u001b[37m\u001b[0m \u001b[1m3s\u001b[0m 21ms/step - loss: 2.5463 - mean_absolute_error: 2.5463 - val_loss: 2.5477 - val_mean_absolute_error: 2.5477\n",
      "Epoch 17/20\n",
      "\u001b[1m151/151\u001b[0m \u001b[32m━━━━━━━━━━━━━━━━━━━━\u001b[0m\u001b[37m\u001b[0m \u001b[1m3s\u001b[0m 22ms/step - loss: 2.4093 - mean_absolute_error: 2.4093 - val_loss: 2.5005 - val_mean_absolute_error: 2.5005\n",
      "Epoch 18/20\n",
      "\u001b[1m151/151\u001b[0m \u001b[32m━━━━━━━━━━━━━━━━━━━━\u001b[0m\u001b[37m\u001b[0m \u001b[1m3s\u001b[0m 21ms/step - loss: 2.4110 - mean_absolute_error: 2.4110 - val_loss: 2.8854 - val_mean_absolute_error: 2.8854\n",
      "Epoch 19/20\n",
      "\u001b[1m151/151\u001b[0m \u001b[32m━━━━━━━━━━━━━━━━━━━━\u001b[0m\u001b[37m\u001b[0m \u001b[1m3s\u001b[0m 21ms/step - loss: 2.3909 - mean_absolute_error: 2.3909 - val_loss: 2.8362 - val_mean_absolute_error: 2.8362\n",
      "Epoch 20/20\n",
      "\u001b[1m151/151\u001b[0m \u001b[32m━━━━━━━━━━━━━━━━━━━━\u001b[0m\u001b[37m\u001b[0m \u001b[1m3s\u001b[0m 21ms/step - loss: 2.3129 - mean_absolute_error: 2.3129 - val_loss: 2.9955 - val_mean_absolute_error: 2.9955\n",
      "\u001b[1m22/22\u001b[0m \u001b[32m━━━━━━━━━━━━━━━━━━━━\u001b[0m\u001b[37m\u001b[0m \u001b[1m1s\u001b[0m 49ms/step\n",
      "\u001b[1m22/22\u001b[0m \u001b[32m━━━━━━━━━━━━━━━━━━━━\u001b[0m\u001b[37m\u001b[0m \u001b[1m1s\u001b[0m 53ms/step\n"
     ]
    },
    {
     "data": {
      "text/plain": [
       "{}"
      ]
     },
     "execution_count": 19,
     "metadata": {},
     "output_type": "execute_result"
    }
   ],
   "source": [
    "dlc = DeepLC(\n",
    "    deeplc_retrain=True,\n",
    "    n_epochs=20,\n",
    ")\n",
    "dlc.calibrate_preds(\n",
    "    psm_list_train\n",
    ")\n"
   ]
  },
  {
   "cell_type": "code",
   "execution_count": 20,
   "id": "059d39a9",
   "metadata": {},
   "outputs": [
    {
     "name": "stdout",
     "output_type": "stream",
     "text": [
      "\u001b[1m22/22\u001b[0m \u001b[32m━━━━━━━━━━━━━━━━━━━━\u001b[0m\u001b[37m\u001b[0m \u001b[1m1s\u001b[0m 47ms/step\n",
      "\u001b[1m22/22\u001b[0m \u001b[32m━━━━━━━━━━━━━━━━━━━━\u001b[0m\u001b[37m\u001b[0m \u001b[1m1s\u001b[0m 50ms/step\n"
     ]
    }
   ],
   "source": [
    "preds = dlc.make_preds(psm_list=psm_list_eval)\n",
    "preds_swapped = dlc.make_preds(psm_list=psm_list_eval_swapped)"
   ]
  },
  {
   "cell_type": "code",
   "execution_count": 21,
   "id": "4f471738",
   "metadata": {},
   "outputs": [
    {
     "data": {
      "text/plain": [
       "10        113.115000\n",
       "30        104.802000\n",
       "50        128.795000\n",
       "56         82.002200\n",
       "61         53.505429\n",
       "             ...    \n",
       "267863    103.420000\n",
       "267870     73.622714\n",
       "267884     53.477286\n",
       "267891    113.511667\n",
       "267897    113.500000\n",
       "Name: Calibrated retention time_y, Length: 22479, dtype: float64"
      ]
     },
     "execution_count": 21,
     "metadata": {},
     "output_type": "execute_result"
    }
   ],
   "source": [
    "df_eval[\"predicted_retention_time\"] = preds\n",
    "df_eval[\"predicted_retention_time_swapped\"] = preds_swapped\n",
    "df_eval[\"Calibrated retention time_y\"]"
   ]
  },
  {
   "cell_type": "code",
   "execution_count": 22,
   "id": "0568fd47",
   "metadata": {},
   "outputs": [],
   "source": [
    "# Compute absolute differences\n",
    "diff_original = (df_eval[\"predicted_retention_time\"] - df_eval[\"Calibrated retention time_y\"]).abs()\n",
    "diff_swapped = (df_eval[\"predicted_retention_time_swapped\"] - df_eval[\"Calibrated retention time_y\"]).abs()\n",
    "\n",
    "# Compute the minimum error per row\n",
    "min_error = np.minimum(diff_original, diff_swapped)\n",
    "\n",
    "# Sort the DataFrame by this minimum error\n",
    "df_eval_sorted = df_eval.assign(min_error=min_error).sort_values(\"min_error\").reset_index(drop=True)\n",
    "\n",
    "# Create a column indicating which prediction is closer\n",
    "df_eval_sorted[\"chosen_prediction_label\"] = np.where(\n",
    "    diff_original <= diff_swapped,\n",
    "    \"original\",\n",
    "    \"swapped\"\n",
    ")"
   ]
  },
  {
   "cell_type": "code",
   "execution_count": 23,
   "id": "234285e4",
   "metadata": {},
   "outputs": [],
   "source": [
    "df_eval_sorted = df_eval_sorted[df_eval_sorted[\"proforma\"].apply(has_il_outside_brackets)]"
   ]
  },
  {
   "cell_type": "code",
   "execution_count": 24,
   "id": "364ed4f5",
   "metadata": {},
   "outputs": [],
   "source": [
    "# Indicator columns\n",
    "df_eval_sorted[\"is_original\"] = (df_eval_sorted[\"chosen_prediction_label\"] == \"original\").astype(int)\n",
    "df_eval_sorted[\"is_swapped\"] = (df_eval_sorted[\"chosen_prediction_label\"] == \"swapped\").astype(int)\n",
    "\n",
    "# Cumulative counts\n",
    "df_eval_sorted[\"cum_original\"] = df_eval_sorted[\"is_original\"].cumsum()\n",
    "df_eval_sorted[\"cum_swapped\"] = df_eval_sorted[\"is_swapped\"].cumsum()\n",
    "df_eval_sorted[\"cum_total\"] = df_eval_sorted[\"cum_original\"] + df_eval_sorted[\"cum_swapped\"]\n",
    "\n",
    "# Compute cumulative fraction\n",
    "df_eval_sorted[\"cum_fraction_original\"] = df_eval_sorted[\"cum_original\"] / df_eval_sorted[\"cum_total\"]"
   ]
  },
  {
   "cell_type": "code",
   "execution_count": 29,
   "id": "f6306ea0",
   "metadata": {},
   "outputs": [
    {
     "data": {
      "image/png": "[encoded data removed]",
      "text/plain": [
       "<Figure size 640x480 with 1 Axes>"
      ]
     },
     "metadata": {},
     "output_type": "display_data"
    }
   ],
   "source": [
    "plt.plot(list(range(len(df_eval_sorted[\"cum_fraction_original\"]))), df_eval_sorted[\"cum_fraction_original\"])\n",
    "plt.xlabel(\"Index of peptidoform sorted by minimum retention time error\")\n",
    "plt.ylabel(\"Ratio of selecting the correct I-L containing peptidoform\")\n",
    "plt.title(\"Cumulative fraction of correct predictions\")\n",
    "plt.xticks(rotation=45)\n",
    "plt.grid()\n",
    "plt.tight_layout()\n",
    "plt.savefig(\"figs/cumulative_fraction_correct_predictions.png\")\n",
    "plt.show()\n",
    "plt.close()"
   ]
  },
  {
   "cell_type": "code",
   "execution_count": null,
   "id": "ca3caa24",
   "metadata": {},
   "outputs": [],
   "source": []
  }
 ],
 "metadata": {
  "kernelspec": {
   "display_name": "py311",
   "language": "python",
   "name": "python3"
  },
  "language_info": {
   "codemirror_mode": {
    "name": "ipython",
    "version": 3
   },
   "file_extension": ".py",
   "mimetype": "text/x-python",
   "name": "python",
   "nbconvert_exporter": "python",
   "pygments_lexer": "ipython3",
   "version": "3.11.8"
  }
 },
 "nbformat": 4,
 "nbformat_minor": 5
}
