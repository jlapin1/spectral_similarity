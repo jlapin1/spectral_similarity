{
 "cells": [
  {
   "cell_type": "code",
   "execution_count": 1,
   "metadata": {},
   "outputs": [
    {
     "name": "stdout",
     "output_type": "stream",
     "text": [
      "Project root added to sys.path: c:\\Users\\robbi\\OneDrive\\Documents\\GitHub\\spectral_similarity\n"
     ]
    }
   ],
   "source": [
    "from koinapy import Koina\n",
    "import numpy as np\n",
    "import pandas as pd\n",
    "\n",
    "import sys\n",
    "from pathlib import Path\n",
    "\n",
    "# Alternative way if __file__ is not defined in Jupyter notebooks\n",
    "project_root = Path.cwd().parent\n",
    "\n",
    "sys.path.append(str(project_root))\n",
    "\n",
    "print(f\"Project root added to sys.path: {project_root}\")\n",
    "\n",
    "from make_predictions.intensity_predictions import obtain_predictions_pairs\n",
    "from seq_utils.fasta_to_peptides import create_tryptic_peptides\n",
    "from seq_utils.peptide import remove_non_il, switch_first_il"
   ]
  },
  {
   "cell_type": "code",
   "execution_count": 2,
   "metadata": {},
   "outputs": [],
   "source": [
    "peptides = np.array(\n",
    "    [\n",
    "        [\"PTAQPIVQDHK\", \"PTAQPLVQDHK\"],\n",
    "        [\"GQEGQDHGKEDDHDSSIGQNSDSK\", \"GQEGQDHGKEDDHDSSLGQNSDSK\"],\n",
    "    ]\n",
    ")\n",
    "\n",
    "# Specify the path to your FASTA file\n",
    "fasta_file = \"../fasta/UP000005640_9606.fasta\"\n",
    "\n",
    "# Generate tryptic peptides\n",
    "peptides = create_tryptic_peptides(fasta_file)\n",
    "\n",
    "# Remove non-I/L amino acids\n",
    "peptides = remove_non_il(peptides)\n",
    "\n",
    "# Create correct, switched pairs\n",
    "peptides_switched = np.array([switch_first_il(peptide) for peptide in peptides])\n",
    "peptides = np.array(peptides)"
   ]
  },
  {
   "cell_type": "code",
   "execution_count": 3,
   "metadata": {},
   "outputs": [
    {
     "name": "stdout",
     "output_type": "stream",
     "text": [
      "['IPEVEVPQHL' 'DCTTAHGMFNYLCNHVK' 'VIYCGVCSLPTEYCEYMPDVAK' ...\n",
      " 'EIEFSMAVGNLISELVR' 'SDSFITFAPSVLSK' 'EINCTAR']\n"
     ]
    },
    {
     "data": {
      "application/vnd.jupyter.widget-view+json": {
       "model_id": "ba7b2d4bad164dc48b81803d8535c130",
       "version_major": 2,
       "version_minor": 0
      },
      "text/plain": [
       "UniSpec::   0%|          | 0/1 [00:00<?, ?it/s]"
      ]
     },
     "metadata": {},
     "output_type": "display_data"
    },
    {
     "data": {
      "application/vnd.jupyter.widget-view+json": {
       "model_id": "a27c8d6b63e94f6b8926a8e3d7996bb5",
       "version_major": 2,
       "version_minor": 0
      },
      "text/plain": [
       "UniSpec::   0%|          | 0/1 [00:00<?, ?it/s]"
      ]
     },
     "metadata": {},
     "output_type": "display_data"
    }
   ],
   "source": [
    "print(peptides_switched)\n",
    "peptides_switch_predictions = obtain_predictions_pairs(peptides_switched[0:10], switched=False)\n",
    "peptides_predictions = obtain_predictions_pairs(peptides[0:10], switched=True)"
   ]
  },
  {
   "cell_type": "code",
   "execution_count": 4,
   "metadata": {},
   "outputs": [],
   "source": [
    "import metrics.metrics as M\n",
    "\n",
    "keys = [m for m in dir(M) if ((m[:2] != \"__\") & (m != \"binarize\") & (m != \"normalize\"))]\n",
    "keys = [\n",
    "    \"mse\",\n",
    "    \"sequest_score\",\n",
    "    \"andromeda_score\",\n",
    "    \"pearson_correlation\",\n",
    "    \"spearman_correlation\",\n",
    "    \"dot_product\",\n",
    "    \"mara_similarity\",\n",
    "    \"modified_dot_product\",\n",
    "    \"massbank_score\",\n",
    "    \"gnps_score\",\n",
    "    \"stein_scott_score\",\n",
    "    \"wasserstein\",\n",
    "    \"kendall_tau\",\n",
    "    \"mutual_information\",\n",
    "    \"bray_curtis\",\n",
    "    \"canberra_distance\",\n",
    "    \"mara_weighted_similarity\",\n",
    "    \"diagnostic_weighted_similarity\",\n",
    "]"
   ]
  },
  {
   "cell_type": "code",
   "execution_count": 7,
   "metadata": {},
   "outputs": [
    {
     "name": "stdout",
     "output_type": "stream",
     "text": [
      "(85, 9)\n",
      "(85, 9)\n"
     ]
    },
    {
     "ename": "KeyError",
     "evalue": "'sequence'",
     "output_type": "error",
     "traceback": [
      "\u001b[31m---------------------------------------------------------------------------\u001b[39m",
      "\u001b[31mKeyError\u001b[39m                                  Traceback (most recent call last)",
      "\u001b[36mFile \u001b[39m\u001b[32mc:\\Users\\robbi\\anaconda3\\envs\\py312_lorentz\\Lib\\site-packages\\pandas\\core\\indexes\\base.py:3805\u001b[39m, in \u001b[36mIndex.get_loc\u001b[39m\u001b[34m(self, key)\u001b[39m\n\u001b[32m   3804\u001b[39m \u001b[38;5;28;01mtry\u001b[39;00m:\n\u001b[32m-> \u001b[39m\u001b[32m3805\u001b[39m     \u001b[38;5;28;01mreturn\u001b[39;00m \u001b[38;5;28;43mself\u001b[39;49m\u001b[43m.\u001b[49m\u001b[43m_engine\u001b[49m\u001b[43m.\u001b[49m\u001b[43mget_loc\u001b[49m\u001b[43m(\u001b[49m\u001b[43mcasted_key\u001b[49m\u001b[43m)\u001b[49m\n\u001b[32m   3806\u001b[39m \u001b[38;5;28;01mexcept\u001b[39;00m \u001b[38;5;167;01mKeyError\u001b[39;00m \u001b[38;5;28;01mas\u001b[39;00m err:\n",
      "\u001b[36mFile \u001b[39m\u001b[32mindex.pyx:167\u001b[39m, in \u001b[36mpandas._libs.index.IndexEngine.get_loc\u001b[39m\u001b[34m()\u001b[39m\n",
      "\u001b[36mFile \u001b[39m\u001b[32mindex.pyx:196\u001b[39m, in \u001b[36mpandas._libs.index.IndexEngine.get_loc\u001b[39m\u001b[34m()\u001b[39m\n",
      "\u001b[36mFile \u001b[39m\u001b[32mpandas\\\\_libs\\\\hashtable_class_helper.pxi:7081\u001b[39m, in \u001b[36mpandas._libs.hashtable.PyObjectHashTable.get_item\u001b[39m\u001b[34m()\u001b[39m\n",
      "\u001b[36mFile \u001b[39m\u001b[32mpandas\\\\_libs\\\\hashtable_class_helper.pxi:7089\u001b[39m, in \u001b[36mpandas._libs.hashtable.PyObjectHashTable.get_item\u001b[39m\u001b[34m()\u001b[39m\n",
      "\u001b[31mKeyError\u001b[39m: 'sequence'",
      "\nThe above exception was the direct cause of the following exception:\n",
      "\u001b[31mKeyError\u001b[39m                                  Traceback (most recent call last)",
      "\u001b[36mCell\u001b[39m\u001b[36m \u001b[39m\u001b[32mIn[7]\u001b[39m\u001b[32m, line 39\u001b[39m\n\u001b[32m     34\u001b[39m         score = \u001b[38;5;28mgetattr\u001b[39m(M, key)(**inp)\n\u001b[32m     36\u001b[39m         score_dict[key] = score\n\u001b[32m     38\u001b[39m     peptide_dict[\n\u001b[32m---> \u001b[39m\u001b[32m39\u001b[39m         \u001b[43mselected_peptide\u001b[49m\u001b[43m[\u001b[49m\u001b[33;43m\"\u001b[39;49m\u001b[33;43msequence\u001b[39;49m\u001b[33;43m\"\u001b[39;49m\u001b[43m]\u001b[49m + \u001b[33m\"\u001b[39m\u001b[33m|\u001b[39m\u001b[33m\"\u001b[39m + selected_peptide_switched[\u001b[33m\"\u001b[39m\u001b[33msequence\u001b[39m\u001b[33m\"\u001b[39m]\n\u001b[32m     40\u001b[39m     ] = score_dict\n\u001b[32m     42\u001b[39m score_df = pd.DataFrame(peptide_dict)\n\u001b[32m     43\u001b[39m score_df\n",
      "\u001b[36mFile \u001b[39m\u001b[32mc:\\Users\\robbi\\anaconda3\\envs\\py312_lorentz\\Lib\\site-packages\\pandas\\core\\frame.py:4102\u001b[39m, in \u001b[36mDataFrame.__getitem__\u001b[39m\u001b[34m(self, key)\u001b[39m\n\u001b[32m   4100\u001b[39m \u001b[38;5;28;01mif\u001b[39;00m \u001b[38;5;28mself\u001b[39m.columns.nlevels > \u001b[32m1\u001b[39m:\n\u001b[32m   4101\u001b[39m     \u001b[38;5;28;01mreturn\u001b[39;00m \u001b[38;5;28mself\u001b[39m._getitem_multilevel(key)\n\u001b[32m-> \u001b[39m\u001b[32m4102\u001b[39m indexer = \u001b[38;5;28;43mself\u001b[39;49m\u001b[43m.\u001b[49m\u001b[43mcolumns\u001b[49m\u001b[43m.\u001b[49m\u001b[43mget_loc\u001b[49m\u001b[43m(\u001b[49m\u001b[43mkey\u001b[49m\u001b[43m)\u001b[49m\n\u001b[32m   4103\u001b[39m \u001b[38;5;28;01mif\u001b[39;00m is_integer(indexer):\n\u001b[32m   4104\u001b[39m     indexer = [indexer]\n",
      "\u001b[36mFile \u001b[39m\u001b[32mc:\\Users\\robbi\\anaconda3\\envs\\py312_lorentz\\Lib\\site-packages\\pandas\\core\\indexes\\base.py:3812\u001b[39m, in \u001b[36mIndex.get_loc\u001b[39m\u001b[34m(self, key)\u001b[39m\n\u001b[32m   3807\u001b[39m     \u001b[38;5;28;01mif\u001b[39;00m \u001b[38;5;28misinstance\u001b[39m(casted_key, \u001b[38;5;28mslice\u001b[39m) \u001b[38;5;129;01mor\u001b[39;00m (\n\u001b[32m   3808\u001b[39m         \u001b[38;5;28misinstance\u001b[39m(casted_key, abc.Iterable)\n\u001b[32m   3809\u001b[39m         \u001b[38;5;129;01mand\u001b[39;00m \u001b[38;5;28many\u001b[39m(\u001b[38;5;28misinstance\u001b[39m(x, \u001b[38;5;28mslice\u001b[39m) \u001b[38;5;28;01mfor\u001b[39;00m x \u001b[38;5;129;01min\u001b[39;00m casted_key)\n\u001b[32m   3810\u001b[39m     ):\n\u001b[32m   3811\u001b[39m         \u001b[38;5;28;01mraise\u001b[39;00m InvalidIndexError(key)\n\u001b[32m-> \u001b[39m\u001b[32m3812\u001b[39m     \u001b[38;5;28;01mraise\u001b[39;00m \u001b[38;5;167;01mKeyError\u001b[39;00m(key) \u001b[38;5;28;01mfrom\u001b[39;00m\u001b[38;5;250m \u001b[39m\u001b[34;01merr\u001b[39;00m\n\u001b[32m   3813\u001b[39m \u001b[38;5;28;01mexcept\u001b[39;00m \u001b[38;5;167;01mTypeError\u001b[39;00m:\n\u001b[32m   3814\u001b[39m     \u001b[38;5;66;03m# If we have a listlike key, _check_indexing_error will raise\u001b[39;00m\n\u001b[32m   3815\u001b[39m     \u001b[38;5;66;03m#  InvalidIndexError. Otherwise we fall through and re-raise\u001b[39;00m\n\u001b[32m   3816\u001b[39m     \u001b[38;5;66;03m#  the TypeError.\u001b[39;00m\n\u001b[32m   3817\u001b[39m     \u001b[38;5;28mself\u001b[39m._check_indexing_error(key)\n",
      "\u001b[31mKeyError\u001b[39m: 'sequence'"
     ]
    }
   ],
   "source": [
    "peptide_dict = {}\n",
    "for i in set(peptides_predictions[\"ID\"]):\n",
    "    score_dict = {}\n",
    "\n",
    "    selected_peptide = peptides_predictions[peptides_predictions[\"ID\"] == i]\n",
    "    selected_peptide_switched = peptides_switch_predictions[\n",
    "        peptides_switch_predictions[\"ID\"] == i\n",
    "    ]\n",
    "\n",
    "    common_annotations = set(selected_peptide[\"annotation\"]).intersection(\n",
    "        selected_peptide_switched[\"annotation\"]\n",
    "    )\n",
    "\n",
    "    selected_peptide = selected_peptide[\n",
    "        selected_peptide[\"annotation\"].isin(common_annotations)\n",
    "    ].copy()\n",
    "    selected_peptide_switched = selected_peptide_switched[\n",
    "        selected_peptide_switched[\"annotation\"].isin(common_annotations)\n",
    "    ].copy()\n",
    "\n",
    "    print(selected_peptide.shape)\n",
    "    print(selected_peptide_switched.shape)\n",
    "\n",
    "    for key in keys:\n",
    "        inp = {\n",
    "            \"intensity1\": selected_peptide[\"intensities\"].to_numpy(),\n",
    "            \"intensity2\": selected_peptide_switched[\"intensities\"].to_numpy(),\n",
    "            \"mz1\": selected_peptide[\"mz\"].to_numpy(),\n",
    "            \"mz2\": selected_peptide_switched[\"mz\"].to_numpy(),\n",
    "            \"diagnostic_mz\": np.array([]),\n",
    "            \"mz\": selected_peptide[\"mz\"].to_numpy(),\n",
    "        }\n",
    "\n",
    "        score = getattr(M, key)(**inp)\n",
    "\n",
    "        score_dict[key] = score\n",
    "\n",
    "    peptide_dict[\n",
    "        selected_peptide[\"sequence\"] + \"|\" + selected_peptide_switched[\"sequence\"]\n",
    "    ] = score_dict\n",
    "\n",
    "score_df = pd.DataFrame(peptide_dict)\n",
    "score_df"
   ]
  },
  {
   "cell_type": "code",
   "execution_count": 4,
   "metadata": {},
   "outputs": [
    {
     "ename": "NameError",
     "evalue": "name 'predictions' is not defined",
     "output_type": "error",
     "traceback": [
      "\u001b[31m---------------------------------------------------------------------------\u001b[39m",
      "\u001b[31mNameError\u001b[39m                                 Traceback (most recent call last)",
      "\u001b[36mCell\u001b[39m\u001b[36m \u001b[39m\u001b[32mIn[4]\u001b[39m\u001b[32m, line 6\u001b[39m\n\u001b[32m      3\u001b[39m fig,ax = plt.subplots()\n\u001b[32m      4\u001b[39m fig.set_figwidth(\u001b[32m10\u001b[39m)\n\u001b[32m----> \u001b[39m\u001b[32m6\u001b[39m predI = \u001b[43mpredictions\u001b[49m.query(\u001b[33mf\u001b[39m\u001b[33m\"\u001b[39m\u001b[33mpeptide_sequences == \u001b[39m\u001b[33m'\u001b[39m\u001b[38;5;132;01m{\u001b[39;00mpeptides[\u001b[32m0\u001b[39m][\u001b[32m0\u001b[39m]\u001b[38;5;132;01m}\u001b[39;00m\u001b[33m'\u001b[39m\u001b[33m and peptide_sequences.str.contains(\u001b[39m\u001b[33m'\u001b[39m\u001b[33mI\u001b[39m\u001b[33m'\u001b[39m\u001b[33m)\u001b[39m\u001b[33m\"\u001b[39m)\n\u001b[32m      7\u001b[39m bee = predI.query(\u001b[33mf\u001b[39m\u001b[33m\"\u001b[39m\u001b[33mannotation.str.contains(\u001b[39m\u001b[33m'\u001b[39m\u001b[33mb5|b4\u001b[39m\u001b[33m'\u001b[39m\u001b[33m)\u001b[39m\u001b[33m\"\u001b[39m)\n\u001b[32m      8\u001b[39m why = predI.query(\u001b[33mf\u001b[39m\u001b[33m\"\u001b[39m\u001b[33mannotation.str.contains(\u001b[39m\u001b[33m'\u001b[39m\u001b[33my5|y6\u001b[39m\u001b[33m'\u001b[39m\u001b[33m)\u001b[39m\u001b[33m\"\u001b[39m)\n",
      "\u001b[31mNameError\u001b[39m: name 'predictions' is not defined"
     ]
    },
    {
     "data": {
      "image/png": "[encoded data removed]",
      "text/plain": [
       "<Figure size 1000x480 with 1 Axes>"
      ]
     },
     "metadata": {},
     "output_type": "display_data"
    }
   ],
   "source": [
    "import matplotlib.pyplot as plt\n",
    "\n",
    "fig,ax = plt.subplots()\n",
    "fig.set_figwidth(10)\n",
    "\n",
    "predI = predictions.query(f\"peptide_sequences == '{peptides[0][0]}' and peptide_sequences.str.contains('I')\")\n",
    "bee = predI.query(f\"annotation.str.contains('b5|b4')\")\n",
    "why = predI.query(f\"annotation.str.contains('y5|y6')\")\n",
    "predL = predictions.query(f\"peptide_sequences == '{peptides[0][1]}' and peptide_sequences.str.contains('L')\")\n",
    "\n",
    "ax.vlines(predI['mz'], ymin=0, ymax=predI['intensities'], color='b', linewidth=0.7)\n",
    "ax.vlines(predL['mz'], ymin=-predL['intensities'], ymax=0, color='r', linewidth=0.7)\n",
    "ax.vlines(bee['mz'], ymin=0, ymax=bee['intensities'], color='purple', linewidth=0.7)\n",
    "ax.vlines(why['mz'], ymin=0, ymax=why['intensities'], color='green', linewidth=0.7)\n",
    "\n",
    "plt.show()"
   ]
  },
  {
   "cell_type": "code",
   "execution_count": 11,
   "metadata": {},
   "outputs": [],
   "source": [
    "import metrics.metrics as M\n",
    "\n",
    "keys = [m for m in dir(M) if ((m[:2] != \"__\") & (m != \"binarize\") & (m != \"normalize\"))]\n",
    "keys = [\n",
    "    \"mse\",\n",
    "    \"sequest_score\",\n",
    "    \"andromeda_score\",\n",
    "    \"pearson_correlation\",\n",
    "    \"spearman_correlation\",\n",
    "    \"dot_product\",\n",
    "    \"mara_similarity\",\n",
    "    \"modified_dot_product\",\n",
    "    \"massbank_score\",\n",
    "    \"gnps_score\",\n",
    "    \"stein_scott_score\",\n",
    "    \"wasserstein\",\n",
    "    \"kendall_tau\",\n",
    "    \"mutual_information\",\n",
    "    \"bray_curtis\",\n",
    "    \"canberra_distance\",\n",
    "    \"mara_weighted_similarity\",\n",
    "    \"diagnostic_weighted_similarity\",\n",
    "]"
   ]
  },
  {
   "cell_type": "code",
   "execution_count": 12,
   "metadata": {},
   "outputs": [],
   "source": [
    "dic = {\"peptideL\": [], \"peptideI\": []}\n",
    "for i in range(peptides.shape[0]):\n",
    "    pepI = peptides[i, 0]\n",
    "    predI = predictions.query(\n",
    "        f\"peptide_sequences == '{pepI}' and peptide_sequences.str.contains('I')\"\n",
    "    )\n",
    "    bee = predI.query(f\"annotation.str.contains('b5|b4')\")\n",
    "    why = predI.query(f\"annotation.str.contains('y5|y6')\")\n",
    "    pepL = peptides[i, 1]\n",
    "    predL = predictions.query(\n",
    "        f\"peptide_sequences == '{pepL}' and peptide_sequences.str.contains('L')\"\n",
    "    )\n",
    "\n",
    "    dic[\"peptideL\"].append(pepL)\n",
    "    dic[\"peptideI\"].append(pepI)\n",
    "\n",
    "    # Find all matching annotations\n",
    "    cross_ref = (\n",
    "        predI[\"annotation\"].to_numpy()[None] == predL[\"annotation\"].to_numpy()[:, None]\n",
    "    )\n",
    "    match_mask = cross_ref.sum(1) == 1\n",
    "    ann_inds2 = cross_ref[match_mask].argmax(1)\n",
    "\n",
    "    # Truncated dataframes for matches\n",
    "    predL_ = predL[match_mask]\n",
    "    predI_ = predI.iloc[ann_inds2]\n",
    "\n",
    "    # Run through and print out similarity scores\n",
    "    for key in keys:\n",
    "        if key not in dic:\n",
    "            dic[key] = []\n",
    "        inp = {\n",
    "            \"intensity1\": predL_[\"intensities\"].to_numpy(),\n",
    "            \"intensity2\": predI_[\"intensities\"].to_numpy(),\n",
    "            \"mz1\": predL_[\"mz\"].to_numpy(),\n",
    "            \"mz2\": predI_[\"mz\"].to_numpy(),\n",
    "            \"diagnostic_mz\": pd.concat([bee, why])[\"mz\"].to_numpy(),\n",
    "            \"mz\": predL_[\"mz\"].to_numpy(),\n",
    "        }\n",
    "        score = getattr(M, key)(**inp)\n",
    "        dic[key].append(score)\n",
    "df = pd.DataFrame(dic)"
   ]
  },
  {
   "cell_type": "code",
   "execution_count": 13,
   "metadata": {},
   "outputs": [
    {
     "data": {
      "text/html": [
       "<div>\n",
       "<style scoped>\n",
       "    .dataframe tbody tr th:only-of-type {\n",
       "        vertical-align: middle;\n",
       "    }\n",
       "\n",
       "    .dataframe tbody tr th {\n",
       "        vertical-align: top;\n",
       "    }\n",
       "\n",
       "    .dataframe thead th {\n",
       "        text-align: right;\n",
       "    }\n",
       "</style>\n",
       "<table border=\"1\" class=\"dataframe\">\n",
       "  <thead>\n",
       "    <tr style=\"text-align: right;\">\n",
       "      <th></th>\n",
       "      <th>peptideL</th>\n",
       "      <th>peptideI</th>\n",
       "      <th>mse</th>\n",
       "      <th>sequest_score</th>\n",
       "      <th>andromeda_score</th>\n",
       "      <th>pearson_correlation</th>\n",
       "      <th>spearman_correlation</th>\n",
       "      <th>dot_product</th>\n",
       "      <th>mara_similarity</th>\n",
       "      <th>modified_dot_product</th>\n",
       "      <th>massbank_score</th>\n",
       "      <th>gnps_score</th>\n",
       "      <th>stein_scott_score</th>\n",
       "      <th>wasserstein</th>\n",
       "      <th>kendall_tau</th>\n",
       "      <th>mutual_information</th>\n",
       "      <th>bray_curtis</th>\n",
       "      <th>canberra_distance</th>\n",
       "      <th>mara_weighted_similarity</th>\n",
       "      <th>diagnostic_weighted_similarity</th>\n",
       "    </tr>\n",
       "  </thead>\n",
       "  <tbody>\n",
       "    <tr>\n",
       "      <th>0</th>\n",
       "      <td>PTAQPLVQDHK</td>\n",
       "      <td>PTAQPIVQDHK</td>\n",
       "      <td>0.000246</td>\n",
       "      <td>2.248419</td>\n",
       "      <td>2.248419</td>\n",
       "      <td>0.99227</td>\n",
       "      <td>0.985159</td>\n",
       "      <td>0.992848</td>\n",
       "      <td>0.891413</td>\n",
       "      <td>0.991200</td>\n",
       "      <td>0.981185</td>\n",
       "      <td>0.981185</td>\n",
       "      <td>0.992848</td>\n",
       "      <td>5.467764</td>\n",
       "      <td>0.906338</td>\n",
       "      <td>0.590307</td>\n",
       "      <td>0.057411</td>\n",
       "      <td>20.211840</td>\n",
       "      <td>0.891413</td>\n",
       "      <td>0.993260</td>\n",
       "    </tr>\n",
       "    <tr>\n",
       "      <th>1</th>\n",
       "      <td>GQEGQDHGKEDDHDSSLGQNSDSK</td>\n",
       "      <td>GQEGQDHGKEDDHDSSIGQNSDSK</td>\n",
       "      <td>0.000048</td>\n",
       "      <td>3.103730</td>\n",
       "      <td>3.103730</td>\n",
       "      <td>0.99846</td>\n",
       "      <td>0.981629</td>\n",
       "      <td>0.998605</td>\n",
       "      <td>0.929426</td>\n",
       "      <td>0.998742</td>\n",
       "      <td>0.997077</td>\n",
       "      <td>0.997077</td>\n",
       "      <td>0.998605</td>\n",
       "      <td>2.898527</td>\n",
       "      <td>0.893965</td>\n",
       "      <td>0.597859</td>\n",
       "      <td>0.036578</td>\n",
       "      <td>15.570403</td>\n",
       "      <td>0.929426</td>\n",
       "      <td>0.998606</td>\n",
       "    </tr>\n",
       "  </tbody>\n",
       "</table>\n",
       "</div>"
      ],
      "text/plain": [
       "                   peptideL                  peptideI       mse  \\\n",
       "0               PTAQPLVQDHK               PTAQPIVQDHK  0.000246   \n",
       "1  GQEGQDHGKEDDHDSSLGQNSDSK  GQEGQDHGKEDDHDSSIGQNSDSK  0.000048   \n",
       "\n",
       "   sequest_score  andromeda_score  pearson_correlation  spearman_correlation  \\\n",
       "0       2.248419         2.248419              0.99227              0.985159   \n",
       "1       3.103730         3.103730              0.99846              0.981629   \n",
       "\n",
       "   dot_product  mara_similarity  modified_dot_product  massbank_score  \\\n",
       "0     0.992848         0.891413              0.991200        0.981185   \n",
       "1     0.998605         0.929426              0.998742        0.997077   \n",
       "\n",
       "   gnps_score  stein_scott_score  wasserstein  kendall_tau  \\\n",
       "0    0.981185           0.992848     5.467764     0.906338   \n",
       "1    0.997077           0.998605     2.898527     0.893965   \n",
       "\n",
       "   mutual_information  bray_curtis  canberra_distance  \\\n",
       "0            0.590307     0.057411          20.211840   \n",
       "1            0.597859     0.036578          15.570403   \n",
       "\n",
       "   mara_weighted_similarity  diagnostic_weighted_similarity  \n",
       "0                  0.891413                        0.993260  \n",
       "1                  0.929426                        0.998606  "
      ]
     },
     "execution_count": 13,
     "metadata": {},
     "output_type": "execute_result"
    }
   ],
   "source": [
    "df"
   ]
  },
  {
   "cell_type": "code",
   "execution_count": 9,
   "metadata": {},
   "outputs": [
    {
     "name": "stdout",
     "output_type": "stream",
     "text": [
      "Collecting pyteomics\n",
      "  Using cached pyteomics-4.7.5-py3-none-any.whl.metadata (6.5 kB)\n",
      "Using cached pyteomics-4.7.5-py3-none-any.whl (238 kB)\n",
      "Installing collected packages: pyteomics\n",
      "Successfully installed pyteomics-4.7.5\n"
     ]
    }
   ],
   "source": [
    "!pip install pyteomics"
   ]
  },
  {
   "cell_type": "code",
   "execution_count": null,
   "metadata": {},
   "outputs": [],
   "source": []
  }
 ],
 "metadata": {
  "kernelspec": {
   "display_name": "py312_lorentz",
   "language": "python",
   "name": "python3"
  },
  "language_info": {
   "codemirror_mode": {
    "name": "ipython",
    "version": 3
   },
   "file_extension": ".py",
   "mimetype": "text/x-python",
   "name": "python",
   "nbconvert_exporter": "python",
   "pygments_lexer": "ipython3",
   "version": "3.12.9"
  }
 },
 "nbformat": 4,
 "nbformat_minor": 2
}
